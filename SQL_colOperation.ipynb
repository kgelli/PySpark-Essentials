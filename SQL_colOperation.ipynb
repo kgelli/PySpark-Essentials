{
 "cells": [
  {
   "cell_type": "code",
   "execution_count": 0,
   "metadata": {
    "application/vnd.databricks.v1+cell": {
     "cellMetadata": {},
     "inputWidgets": {},
     "nuid": "3292e9c1-de57-4c19-8bca-d14b80cde9d5",
     "showTitle": false,
     "tableResultSettingsMap": {},
     "title": ""
    }
   },
   "outputs": [
    {
     "output_type": "stream",
     "name": "stdout",
     "output_type": "stream",
     "text": [
      "+---+------+----------------+------+------+-----+--------------------+\n|age|gender|            name|course|  roll|marks|               email|\n+---+------+----------------+------+------+-----+--------------------+\n| 28|Female| Hubert Oliveras|    DB|  2984|   59|Annika Hoffman_Na...|\n| 29|Female|Toshiko Hillyard| Cloud| 12899|   62|Margene Moores_Ma...|\n| 28|  Male|  Celeste Lollis|    PF| 21267|   45|Jeannetta Golden_...|\n| 29|Female|    Elenore Choy|    DB| 32877|   29|Billi Clore_Mitzi...|\n| 28|  Male|  Sheryll Towler|   DSA| 41487|   41|Claude Panos_Judi...|\n| 28|  Male|  Margene Moores|   MVC| 52771|   32|Toshiko Hillyard_...|\n| 28|  Male|     Neda Briski|   OOP| 61973|   69|Alberta Freund_El...|\n| 28|Female|    Claude Panos| Cloud| 72409|   85|Sheryll Towler_Al...|\n| 28|  Male|  Celeste Lollis|   MVC| 81492|   64|Nicole Harwood_Cl...|\n| 29|  Male|  Cordie Harnois|   OOP| 92882|   51|Judie Chipps_Clem...|\n| 29|Female|       Kena Wild|   DSA|102285|   35|Dustin Feagins_Ma...|\n| 29|  Male| Ernest Rossbach|    DB|111449|   53|Maybell Duguay_Ab...|\n| 28|Female|  Latia Vanhoose|    DB|122502|   27|Latia Vanhoose_Mi...|\n| 29|Female|  Latia Vanhoose|   MVC|132110|   55|Eda Neathery_Nico...|\n| 29|  Male|     Neda Briski|    PF|141770|   42|Margene Moores_Mi...|\n| 29|Female|  Latia Vanhoose|    DB|152159|   27|Claude Panos_Sant...|\n| 29|  Male|  Loris Crossett|   MVC|161771|   36|Mitzi Seldon_Jenn...|\n| 29|  Male|  Annika Hoffman|   OOP|171660|   22|Taryn Brownlee_Mi...|\n| 29|  Male|   Santa Kerfien|    PF|182129|   56|Judie Chipps_Tary...|\n| 28|Female|Mickey Cortright|    DB|192537|   62|Ernest Rossbach_M...|\n+---+------+----------------+------+------+-----+--------------------+\nonly showing top 20 rows\n\nroot\n |-- age: integer (nullable = true)\n |-- gender: string (nullable = true)\n |-- name: string (nullable = true)\n |-- course: string (nullable = true)\n |-- roll: string (nullable = true)\n |-- marks: integer (nullable = true)\n |-- email: string (nullable = true)\n\n+---+------+----------------+------+------+-----+--------------------+\n|age|gender|            name|course|  roll|marks|               email|\n+---+------+----------------+------+------+-----+--------------------+\n| 28|Female| Hubert Oliveras|    DB|  2984|   69|Annika Hoffman_Na...|\n| 29|Female|Toshiko Hillyard| Cloud| 12899|   72|Margene Moores_Ma...|\n| 28|  Male|  Celeste Lollis|    PF| 21267|   55|Jeannetta Golden_...|\n| 29|Female|    Elenore Choy|    DB| 32877|   39|Billi Clore_Mitzi...|\n| 28|  Male|  Sheryll Towler|   DSA| 41487|   51|Claude Panos_Judi...|\n| 28|  Male|  Margene Moores|   MVC| 52771|   42|Toshiko Hillyard_...|\n| 28|  Male|     Neda Briski|   OOP| 61973|   79|Alberta Freund_El...|\n| 28|Female|    Claude Panos| Cloud| 72409|   95|Sheryll Towler_Al...|\n| 28|  Male|  Celeste Lollis|   MVC| 81492|   74|Nicole Harwood_Cl...|\n| 29|  Male|  Cordie Harnois|   OOP| 92882|   61|Judie Chipps_Clem...|\n| 29|Female|       Kena Wild|   DSA|102285|   45|Dustin Feagins_Ma...|\n| 29|  Male| Ernest Rossbach|    DB|111449|   63|Maybell Duguay_Ab...|\n| 28|Female|  Latia Vanhoose|    DB|122502|   37|Latia Vanhoose_Mi...|\n| 29|Female|  Latia Vanhoose|   MVC|132110|   65|Eda Neathery_Nico...|\n| 29|  Male|     Neda Briski|    PF|141770|   52|Margene Moores_Mi...|\n| 29|Female|  Latia Vanhoose|    DB|152159|   37|Claude Panos_Sant...|\n| 29|  Male|  Loris Crossett|   MVC|161771|   46|Mitzi Seldon_Jenn...|\n| 29|  Male|  Annika Hoffman|   OOP|171660|   32|Taryn Brownlee_Mi...|\n| 29|  Male|   Santa Kerfien|    PF|182129|   66|Judie Chipps_Tary...|\n| 28|Female|Mickey Cortright|    DB|192537|   72|Ernest Rossbach_M...|\n+---+------+----------------+------+------+-----+--------------------+\nonly showing top 20 rows\n\n+---+------+----------------+------+------+-----+--------------------+----------------+\n|age|gender|            name|course|  roll|marks|               email|aggregated marks|\n+---+------+----------------+------+------+-----+--------------------+----------------+\n| 28|Female| Hubert Oliveras|    DB|  2984|   69|Annika Hoffman_Na...|              59|\n| 29|Female|Toshiko Hillyard| Cloud| 12899|   72|Margene Moores_Ma...|              62|\n| 28|  Male|  Celeste Lollis|    PF| 21267|   55|Jeannetta Golden_...|              45|\n| 29|Female|    Elenore Choy|    DB| 32877|   39|Billi Clore_Mitzi...|              29|\n| 28|  Male|  Sheryll Towler|   DSA| 41487|   51|Claude Panos_Judi...|              41|\n| 28|  Male|  Margene Moores|   MVC| 52771|   42|Toshiko Hillyard_...|              32|\n| 28|  Male|     Neda Briski|   OOP| 61973|   79|Alberta Freund_El...|              69|\n| 28|Female|    Claude Panos| Cloud| 72409|   95|Sheryll Towler_Al...|              85|\n| 28|  Male|  Celeste Lollis|   MVC| 81492|   74|Nicole Harwood_Cl...|              64|\n| 29|  Male|  Cordie Harnois|   OOP| 92882|   61|Judie Chipps_Clem...|              51|\n| 29|Female|       Kena Wild|   DSA|102285|   45|Dustin Feagins_Ma...|              35|\n| 29|  Male| Ernest Rossbach|    DB|111449|   63|Maybell Duguay_Ab...|              53|\n| 28|Female|  Latia Vanhoose|    DB|122502|   37|Latia Vanhoose_Mi...|              27|\n| 29|Female|  Latia Vanhoose|   MVC|132110|   65|Eda Neathery_Nico...|              55|\n| 29|  Male|     Neda Briski|    PF|141770|   52|Margene Moores_Mi...|              42|\n| 29|Female|  Latia Vanhoose|    DB|152159|   37|Claude Panos_Sant...|              27|\n| 29|  Male|  Loris Crossett|   MVC|161771|   46|Mitzi Seldon_Jenn...|              36|\n| 29|  Male|  Annika Hoffman|   OOP|171660|   32|Taryn Brownlee_Mi...|              22|\n| 29|  Male|   Santa Kerfien|    PF|182129|   66|Judie Chipps_Tary...|              56|\n| 28|Female|Mickey Cortright|    DB|192537|   72|Ernest Rossbach_M...|              62|\n+---+------+----------------+------+------+-----+--------------------+----------------+\nonly showing top 20 rows\n\n+---+------+----+------+------+-----+--------------------+----------------+\n|age|gender|name|course|  roll|marks|               email|aggregated marks|\n+---+------+----+------+------+-----+--------------------+----------------+\n| 28|Female| USA|    DB|  2984|   69|Annika Hoffman_Na...|              59|\n| 29|Female| USA| Cloud| 12899|   72|Margene Moores_Ma...|              62|\n| 28|  Male| USA|    PF| 21267|   55|Jeannetta Golden_...|              45|\n| 29|Female| USA|    DB| 32877|   39|Billi Clore_Mitzi...|              29|\n| 28|  Male| USA|   DSA| 41487|   51|Claude Panos_Judi...|              41|\n| 28|  Male| USA|   MVC| 52771|   42|Toshiko Hillyard_...|              32|\n| 28|  Male| USA|   OOP| 61973|   79|Alberta Freund_El...|              69|\n| 28|Female| USA| Cloud| 72409|   95|Sheryll Towler_Al...|              85|\n| 28|  Male| USA|   MVC| 81492|   74|Nicole Harwood_Cl...|              64|\n| 29|  Male| USA|   OOP| 92882|   61|Judie Chipps_Clem...|              51|\n| 29|Female| USA|   DSA|102285|   45|Dustin Feagins_Ma...|              35|\n| 29|  Male| USA|    DB|111449|   63|Maybell Duguay_Ab...|              53|\n| 28|Female| USA|    DB|122502|   37|Latia Vanhoose_Mi...|              27|\n| 29|Female| USA|   MVC|132110|   65|Eda Neathery_Nico...|              55|\n| 29|  Male| USA|    PF|141770|   52|Margene Moores_Mi...|              42|\n| 29|Female| USA|    DB|152159|   37|Claude Panos_Sant...|              27|\n| 29|  Male| USA|   MVC|161771|   46|Mitzi Seldon_Jenn...|              36|\n| 29|  Male| USA|   OOP|171660|   32|Taryn Brownlee_Mi...|              22|\n| 29|  Male| USA|    PF|182129|   66|Judie Chipps_Tary...|              56|\n| 28|Female| USA|    DB|192537|   72|Ernest Rossbach_M...|              62|\n+---+------+----+------+------+-----+--------------------+----------------+\nonly showing top 20 rows\n\n+---+------+----+------+------+-----+--------------------+----------------+-------------+-------+\n|age|gender|name|course|  roll|marks|               email|aggregated marks|updated marks|Country|\n+---+------+----+------+------+-----+--------------------+----------------+-------------+-------+\n| 28|Female| USA|    DB|  2984|   59|Annika Hoffman_Na...|              59|           79|    USA|\n| 29|Female| USA| Cloud| 12899|   62|Margene Moores_Ma...|              62|           82|    USA|\n| 28|  Male| USA|    PF| 21267|   45|Jeannetta Golden_...|              45|           65|    USA|\n| 29|Female| USA|    DB| 32877|   29|Billi Clore_Mitzi...|              29|           49|    USA|\n| 28|  Male| USA|   DSA| 41487|   41|Claude Panos_Judi...|              41|           61|    USA|\n| 28|  Male| USA|   MVC| 52771|   32|Toshiko Hillyard_...|              32|           52|    USA|\n| 28|  Male| USA|   OOP| 61973|   69|Alberta Freund_El...|              69|           89|    USA|\n| 28|Female| USA| Cloud| 72409|   85|Sheryll Towler_Al...|              85|          105|    USA|\n| 28|  Male| USA|   MVC| 81492|   64|Nicole Harwood_Cl...|              64|           84|    USA|\n| 29|  Male| USA|   OOP| 92882|   51|Judie Chipps_Clem...|              51|           71|    USA|\n| 29|Female| USA|   DSA|102285|   35|Dustin Feagins_Ma...|              35|           55|    USA|\n| 29|  Male| USA|    DB|111449|   53|Maybell Duguay_Ab...|              53|           73|    USA|\n| 28|Female| USA|    DB|122502|   27|Latia Vanhoose_Mi...|              27|           47|    USA|\n| 29|Female| USA|   MVC|132110|   55|Eda Neathery_Nico...|              55|           75|    USA|\n| 29|  Male| USA|    PF|141770|   42|Margene Moores_Mi...|              42|           62|    USA|\n| 29|Female| USA|    DB|152159|   27|Claude Panos_Sant...|              27|           47|    USA|\n| 29|  Male| USA|   MVC|161771|   36|Mitzi Seldon_Jenn...|              36|           56|    USA|\n| 29|  Male| USA|   OOP|171660|   22|Taryn Brownlee_Mi...|              22|           42|    USA|\n| 29|  Male| USA|    PF|182129|   56|Judie Chipps_Tary...|              56|           76|    USA|\n| 28|Female| USA|    DB|192537|   62|Ernest Rossbach_M...|              62|           82|    USA|\n+---+------+----+------+------+-----+--------------------+----------------+-------------+-------+\nonly showing top 20 rows\n\n"
     ]
    }
   ],
   "source": [
    "from pyspark.sql import SparkSession\n",
    "from pyspark.sql.functions import col, lit\n",
    "spark = SparkSession.builder.appName(\"Spark DataFrames\").getOrCreate()\n",
    "# COMMAND ----------\n",
    "df = spark.read.options(header='True', inferSchema='True').csv('/FileStore/tables/StudentData.csv')\n",
    "df.show()\n",
    "# COMMAND ----------\n",
    "df = df.withColumn(\"roll\", col(\"roll\").cast(\"String\"))\n",
    "# COMMAND ----------\n",
    "df.printSchema()\n",
    "# COMMAND ----------\n",
    "df = df.withColumn(\"marks\", col('marks') + 10)\n",
    "df.show()\n",
    "# COMMAND ----------\n",
    "df = df.withColumn(\"aggregated marks\", col('marks') - 10)\n",
    "df.show()\n",
    "# COMMAND ----------\n",
    "df = df.withColumn(\"name\", lit(\"USA\"))\n",
    "\n",
    "df.show()\n",
    "# COMMAND ----------\n",
    "#df.show()\n",
    "# COMMAND ----------\n",
    "df = df.withColumn(\"marks\", col(\"marks\") - 10).withColumn(\"updated marks\", col(\"marks\") + 20).withColumn(\"Country\", lit(\"USA\"))\n",
    "# COMMAND ----------\n",
    "df.show()"
   ]
  },
  {
   "cell_type": "code",
   "execution_count": 0,
   "metadata": {
    "application/vnd.databricks.v1+cell": {
     "cellMetadata": {},
     "inputWidgets": {},
     "nuid": "8859aa25-308e-4309-9d9e-e5d3e48bdcb5",
     "showTitle": false,
     "tableResultSettingsMap": {},
     "title": ""
    }
   },
   "outputs": [],
   "source": []
  }
 ],
 "metadata": {
  "application/vnd.databricks.v1+notebook": {
   "computePreferences": null,
   "dashboards": [],
   "environmentMetadata": null,
   "inputWidgetPreferences": null,
   "language": "python",
   "notebookMetadata": {
    "pythonIndentUnit": 4
   },
   "notebookName": "SQL_colOperation",
   "widgets": {}
  }
 },
 "nbformat": 4,
 "nbformat_minor": 0
}