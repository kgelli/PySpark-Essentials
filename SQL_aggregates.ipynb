{
 "cells": [
  {
   "cell_type": "code",
   "execution_count": 0,
   "metadata": {
    "application/vnd.databricks.v1+cell": {
     "cellMetadata": {},
     "inputWidgets": {},
     "nuid": "c85e03e5-b6f7-4628-acb0-da5b6d12e18a",
     "showTitle": false,
     "tableResultSettingsMap": {},
     "title": ""
    }
   },
   "outputs": [
    {
     "output_type": "stream",
     "name": "stdout",
     "output_type": "stream",
     "text": [
      "+---+------+----------------+------+------+-----+--------------------+\n|age|gender|            name|course|  roll|marks|               email|\n+---+------+----------------+------+------+-----+--------------------+\n| 28|Female| Hubert Oliveras|    DB|  2984|   59|Annika Hoffman_Na...|\n| 29|Female|Toshiko Hillyard| Cloud| 12899|   62|Margene Moores_Ma...|\n| 28|  Male|  Celeste Lollis|    PF| 21267|   45|Jeannetta Golden_...|\n| 29|Female|    Elenore Choy|    DB| 32877|   29|Billi Clore_Mitzi...|\n| 28|  Male|  Sheryll Towler|   DSA| 41487|   41|Claude Panos_Judi...|\n| 28|  Male|  Margene Moores|   MVC| 52771|   32|Toshiko Hillyard_...|\n| 28|  Male|     Neda Briski|   OOP| 61973|   69|Alberta Freund_El...|\n| 28|Female|    Claude Panos| Cloud| 72409|   85|Sheryll Towler_Al...|\n| 28|  Male|  Celeste Lollis|   MVC| 81492|   64|Nicole Harwood_Cl...|\n| 29|  Male|  Cordie Harnois|   OOP| 92882|   51|Judie Chipps_Clem...|\n| 29|Female|       Kena Wild|   DSA|102285|   35|Dustin Feagins_Ma...|\n| 29|  Male| Ernest Rossbach|    DB|111449|   53|Maybell Duguay_Ab...|\n| 28|Female|  Latia Vanhoose|    DB|122502|   27|Latia Vanhoose_Mi...|\n| 29|Female|  Latia Vanhoose|   MVC|132110|   55|Eda Neathery_Nico...|\n| 29|  Male|     Neda Briski|    PF|141770|   42|Margene Moores_Mi...|\n| 29|Female|  Latia Vanhoose|    DB|152159|   27|Claude Panos_Sant...|\n| 29|  Male|  Loris Crossett|   MVC|161771|   36|Mitzi Seldon_Jenn...|\n| 29|  Male|  Annika Hoffman|   OOP|171660|   22|Taryn Brownlee_Mi...|\n| 29|  Male|   Santa Kerfien|    PF|182129|   56|Judie Chipps_Tary...|\n| 28|Female|Mickey Cortright|    DB|192537|   62|Ernest Rossbach_M...|\n+---+------+----------------+------+------+-----+--------------------+\nonly showing top 20 rows\n\n+------+----------+\n|gender|sum(marks)|\n+------+----------+\n|Female|     29636|\n|  Male|     30461|\n+------+----------+\n\n+------+-----+\n|gender|count|\n+------+-----+\n|Female|  501|\n|  Male|  499|\n+------+-----+\n\n+------+-----+\n|course|count|\n+------+-----+\n|    PF|  166|\n|    DB|  157|\n|   MVC|  157|\n|   DSA|  176|\n| Cloud|  192|\n|   OOP|  152|\n+------+-----+\n\n+------+----------+\n|course|sum(marks)|\n+------+----------+\n|    PF|      9933|\n|    DB|      9270|\n|   MVC|      9585|\n|   DSA|     10950|\n| Cloud|     11443|\n|   OOP|      8916|\n+------+----------+\n\n+------+----------+\n|gender|max(marks)|\n+------+----------+\n|Female|        99|\n|  Male|        99|\n+------+----------+\n\n+------+----------+\n|gender|min(marks)|\n+------+----------+\n|Female|        20|\n|  Male|        20|\n+------+----------+\n\n+---+------------------+\n|age|        avg(marks)|\n+---+------------------+\n| 28|60.487854251012145|\n| 29|59.715415019762844|\n+---+------------------+\n\n+------+------------------+\n|gender|        avg(marks)|\n+------+------------------+\n|Female|59.153692614770456|\n|  Male| 61.04408817635271|\n+------+------------------+\n\n"
     ]
    },
    {
     "output_type": "display_data",
     "data": {
      "text/html": [
       "<style scoped>\n",
       "  .ansiout {\n",
       "    display: block;\n",
       "    unicode-bidi: embed;\n",
       "    white-space: pre-wrap;\n",
       "    word-wrap: break-word;\n",
       "    word-break: break-all;\n",
       "    font-family: \"Menlo\", \"Monaco\", \"Consolas\", \"Ubuntu Mono\", \"Source Code Pro\", monospace;\n",
       "    font-size: 13px;\n",
       "    color: #555;\n",
       "    margin-left: 4px;\n",
       "    line-height: 19px;\n",
       "  }\n",
       "</style>"
      ]
     },
     "metadata": {
      "application/vnd.databricks.v1+output": {
       "arguments": {},
       "data": "",
       "errorSummary": "",
       "errorTraceType": null,
       "metadata": {},
       "type": "ipynbError"
      }
     },
     "output_type": "display_data"
    }
   ],
   "source": [
    "from pyspark.sql import SparkSession\n",
    "from pyspark.sql.functions import col, lit\n",
    "spark = SparkSession.builder.appName(\"Spark DataFrames\").getOrCreate()\n",
    "# COMMAND ----------\n",
    "df = spark.read.options(header='True', inferSchema='True').csv('/FileStore/tables/StudentData.csv')\n",
    "df.show()\n",
    "# COMMAND ----------\n",
    "df.groupBy(\"gender\").sum(\"marks\").show()\n",
    "# COMMAND ----------\n",
    "df.groupBy(\"gender\").count().show()\n",
    "df.groupBy(\"course\").count().show()\n",
    "df.groupBy(\"course\").sum(\"marks\").show()\n",
    "# COMMAND ----------\n",
    "df.groupBy(\"gender\").max(\"marks\").show()\n",
    "df.groupBy(\"gender\").min(\"marks\").show()\n",
    "# COMMAND ----------\n",
    "df.groupBy(\"age\").avg(\"marks\").show()\n",
    "# COMMAND ----------\n",
    "df.groupBy(\"gender\").mean(\"marks\").show()"
   ]
  },
  {
   "cell_type": "code",
   "execution_count": 0,
   "metadata": {
    "application/vnd.databricks.v1+cell": {
     "cellMetadata": {},
     "inputWidgets": {},
     "nuid": "4405f03b-95b0-47af-9115-34f81ff01377",
     "showTitle": false,
     "tableResultSettingsMap": {},
     "title": ""
    }
   },
   "outputs": [],
   "source": []
  }
 ],
 "metadata": {
  "application/vnd.databricks.v1+notebook": {
   "computePreferences": null,
   "dashboards": [],
   "environmentMetadata": null,
   "inputWidgetPreferences": null,
   "language": "python",
   "notebookMetadata": {
    "pythonIndentUnit": 4
   },
   "notebookName": "SQL_aggregates",
   "widgets": {}
  }
 },
 "nbformat": 4,
 "nbformat_minor": 0
}