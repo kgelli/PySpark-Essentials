{
 "cells": [
  {
   "cell_type": "code",
   "execution_count": 0,
   "metadata": {
    "application/vnd.databricks.v1+cell": {
     "cellMetadata": {},
     "inputWidgets": {},
     "nuid": "9ecabd11-8bb6-4b27-80fe-ec6bca783c41",
     "showTitle": false,
     "tableResultSettingsMap": {},
     "title": ""
    }
   },
   "outputs": [
    {
     "output_type": "stream",
     "name": "stdout",
     "output_type": "stream",
     "text": [
      "+---+------+----------------+------+------+-----+--------------------+\n|age|gender|            name|course|  roll|marks|               email|\n+---+------+----------------+------+------+-----+--------------------+\n| 28|Female| Hubert Oliveras|    DB|  2984|   59|Annika Hoffman_Na...|\n| 29|Female|Toshiko Hillyard| Cloud| 12899|   62|Margene Moores_Ma...|\n| 28|  Male|  Celeste Lollis|    PF| 21267|   45|Jeannetta Golden_...|\n| 29|Female|    Elenore Choy|    DB| 32877|   29|Billi Clore_Mitzi...|\n| 28|  Male|  Sheryll Towler|   DSA| 41487|   41|Claude Panos_Judi...|\n| 28|  Male|  Margene Moores|   MVC| 52771|   32|Toshiko Hillyard_...|\n| 28|  Male|     Neda Briski|   OOP| 61973|   69|Alberta Freund_El...|\n| 28|Female|    Claude Panos| Cloud| 72409|   85|Sheryll Towler_Al...|\n| 28|  Male|  Celeste Lollis|   MVC| 81492|   64|Nicole Harwood_Cl...|\n| 29|  Male|  Cordie Harnois|   OOP| 92882|   51|Judie Chipps_Clem...|\n| 29|Female|       Kena Wild|   DSA|102285|   35|Dustin Feagins_Ma...|\n| 29|  Male| Ernest Rossbach|    DB|111449|   53|Maybell Duguay_Ab...|\n| 28|Female|  Latia Vanhoose|    DB|122502|   27|Latia Vanhoose_Mi...|\n| 29|Female|  Latia Vanhoose|   MVC|132110|   55|Eda Neathery_Nico...|\n| 29|  Male|     Neda Briski|    PF|141770|   42|Margene Moores_Mi...|\n| 29|Female|  Latia Vanhoose|    DB|152159|   27|Claude Panos_Sant...|\n| 29|  Male|  Loris Crossett|   MVC|161771|   36|Mitzi Seldon_Jenn...|\n| 29|  Male|  Annika Hoffman|   OOP|171660|   22|Taryn Brownlee_Mi...|\n| 29|  Male|   Santa Kerfien|    PF|182129|   56|Judie Chipps_Tary...|\n| 28|Female|Mickey Cortright|    DB|192537|   62|Ernest Rossbach_M...|\n+---+------+----------------+------+------+-----+--------------------+\nonly showing top 20 rows\n\n"
     ]
    }
   ],
   "source": [
    "# Databricks notebook source\n",
    "from pyspark.sql import SparkSession\n",
    "spark = SparkSession.builder.appName(\"Spark DataFrames\").getOrCreate()\n",
    "# COMMAND ----------\n",
    "df = spark.read.options(header='True', inferSchema='True').csv('/FileStore/tables/StudentData.csv')\n",
    "df.show()\n"
   ]
  },
  {
   "cell_type": "code",
   "execution_count": 0,
   "metadata": {
    "application/vnd.databricks.v1+cell": {
     "cellMetadata": {},
     "inputWidgets": {},
     "nuid": "917c0619-5643-44d7-ac00-5afa54f1f83f",
     "showTitle": false,
     "tableResultSettingsMap": {},
     "title": ""
    }
   },
   "outputs": [
    {
     "output_type": "stream",
     "name": "stdout",
     "output_type": "stream",
     "text": [
      "+----------------+------+\n|            name|gender|\n+----------------+------+\n| Hubert Oliveras|Female|\n|Toshiko Hillyard|Female|\n|  Celeste Lollis|  Male|\n|    Elenore Choy|Female|\n|  Sheryll Towler|  Male|\n|  Margene Moores|  Male|\n|     Neda Briski|  Male|\n|    Claude Panos|Female|\n|  Celeste Lollis|  Male|\n|  Cordie Harnois|  Male|\n|       Kena Wild|Female|\n| Ernest Rossbach|  Male|\n|  Latia Vanhoose|Female|\n|  Latia Vanhoose|Female|\n|     Neda Briski|  Male|\n|  Latia Vanhoose|Female|\n|  Loris Crossett|  Male|\n|  Annika Hoffman|  Male|\n|   Santa Kerfien|  Male|\n|Mickey Cortright|Female|\n+----------------+------+\nonly showing top 20 rows\n\n"
     ]
    }
   ],
   "source": [
    "# COMMAND ----------\n",
    "df.select(\"name\",\"gender\").show()\n",
    "# COMMAND ----------\n"
   ]
  },
  {
   "cell_type": "code",
   "execution_count": 0,
   "metadata": {
    "application/vnd.databricks.v1+cell": {
     "cellMetadata": {},
     "inputWidgets": {},
     "nuid": "eaaa236e-bfe6-44c1-b1b0-e48fa895f81e",
     "showTitle": false,
     "tableResultSettingsMap": {},
     "title": ""
    }
   },
   "outputs": [
    {
     "output_type": "stream",
     "name": "stdout",
     "output_type": "stream",
     "text": [
      "+----------------+--------------------+\n|            name|               email|\n+----------------+--------------------+\n| Hubert Oliveras|Annika Hoffman_Na...|\n|Toshiko Hillyard|Margene Moores_Ma...|\n|  Celeste Lollis|Jeannetta Golden_...|\n|    Elenore Choy|Billi Clore_Mitzi...|\n|  Sheryll Towler|Claude Panos_Judi...|\n|  Margene Moores|Toshiko Hillyard_...|\n|     Neda Briski|Alberta Freund_El...|\n|    Claude Panos|Sheryll Towler_Al...|\n|  Celeste Lollis|Nicole Harwood_Cl...|\n|  Cordie Harnois|Judie Chipps_Clem...|\n|       Kena Wild|Dustin Feagins_Ma...|\n| Ernest Rossbach|Maybell Duguay_Ab...|\n|  Latia Vanhoose|Latia Vanhoose_Mi...|\n|  Latia Vanhoose|Eda Neathery_Nico...|\n|     Neda Briski|Margene Moores_Mi...|\n|  Latia Vanhoose|Claude Panos_Sant...|\n|  Loris Crossett|Mitzi Seldon_Jenn...|\n|  Annika Hoffman|Taryn Brownlee_Mi...|\n|   Santa Kerfien|Judie Chipps_Tary...|\n|Mickey Cortright|Ernest Rossbach_M...|\n+----------------+--------------------+\nonly showing top 20 rows\n\n"
     ]
    }
   ],
   "source": [
    "df.select(df.name, df.email).show()\n",
    "# COMMAND ----------\n"
   ]
  },
  {
   "cell_type": "code",
   "execution_count": 0,
   "metadata": {
    "application/vnd.databricks.v1+cell": {
     "cellMetadata": {},
     "inputWidgets": {},
     "nuid": "e6b866ee-a158-41b2-b452-bd0396889ed9",
     "showTitle": false,
     "tableResultSettingsMap": {},
     "title": ""
    }
   },
   "outputs": [
    {
     "output_type": "stream",
     "name": "stdout",
     "output_type": "stream",
     "text": [
      "+------+----------------+\n|  roll|            name|\n+------+----------------+\n|  2984| Hubert Oliveras|\n| 12899|Toshiko Hillyard|\n| 21267|  Celeste Lollis|\n| 32877|    Elenore Choy|\n| 41487|  Sheryll Towler|\n| 52771|  Margene Moores|\n| 61973|     Neda Briski|\n| 72409|    Claude Panos|\n| 81492|  Celeste Lollis|\n| 92882|  Cordie Harnois|\n|102285|       Kena Wild|\n|111449| Ernest Rossbach|\n|122502|  Latia Vanhoose|\n|132110|  Latia Vanhoose|\n|141770|     Neda Briski|\n|152159|  Latia Vanhoose|\n|161771|  Loris Crossett|\n|171660|  Annika Hoffman|\n|182129|   Santa Kerfien|\n|192537|Mickey Cortright|\n+------+----------------+\nonly showing top 20 rows\n\n"
     ]
    }
   ],
   "source": [
    "from pyspark.sql.functions import col\n",
    "df.select(col(\"roll\"), col(\"name\")).show()\n",
    "# COMMAND ----------\n"
   ]
  },
  {
   "cell_type": "code",
   "execution_count": 0,
   "metadata": {
    "application/vnd.databricks.v1+cell": {
     "cellMetadata": {},
     "inputWidgets": {},
     "nuid": "d9c23e15-c656-47a0-b8e5-422ec4335695",
     "showTitle": false,
     "tableResultSettingsMap": {},
     "title": ""
    }
   },
   "outputs": [
    {
     "output_type": "stream",
     "name": "stdout",
     "output_type": "stream",
     "text": [
      "+---+------+----------------+------+------+-----+--------------------+\n|age|gender|            name|course|  roll|marks|               email|\n+---+------+----------------+------+------+-----+--------------------+\n| 28|Female| Hubert Oliveras|    DB|  2984|   59|Annika Hoffman_Na...|\n| 29|Female|Toshiko Hillyard| Cloud| 12899|   62|Margene Moores_Ma...|\n| 28|  Male|  Celeste Lollis|    PF| 21267|   45|Jeannetta Golden_...|\n| 29|Female|    Elenore Choy|    DB| 32877|   29|Billi Clore_Mitzi...|\n| 28|  Male|  Sheryll Towler|   DSA| 41487|   41|Claude Panos_Judi...|\n| 28|  Male|  Margene Moores|   MVC| 52771|   32|Toshiko Hillyard_...|\n| 28|  Male|     Neda Briski|   OOP| 61973|   69|Alberta Freund_El...|\n| 28|Female|    Claude Panos| Cloud| 72409|   85|Sheryll Towler_Al...|\n| 28|  Male|  Celeste Lollis|   MVC| 81492|   64|Nicole Harwood_Cl...|\n| 29|  Male|  Cordie Harnois|   OOP| 92882|   51|Judie Chipps_Clem...|\n| 29|Female|       Kena Wild|   DSA|102285|   35|Dustin Feagins_Ma...|\n| 29|  Male| Ernest Rossbach|    DB|111449|   53|Maybell Duguay_Ab...|\n| 28|Female|  Latia Vanhoose|    DB|122502|   27|Latia Vanhoose_Mi...|\n| 29|Female|  Latia Vanhoose|   MVC|132110|   55|Eda Neathery_Nico...|\n| 29|  Male|     Neda Briski|    PF|141770|   42|Margene Moores_Mi...|\n| 29|Female|  Latia Vanhoose|    DB|152159|   27|Claude Panos_Sant...|\n| 29|  Male|  Loris Crossett|   MVC|161771|   36|Mitzi Seldon_Jenn...|\n| 29|  Male|  Annika Hoffman|   OOP|171660|   22|Taryn Brownlee_Mi...|\n| 29|  Male|   Santa Kerfien|    PF|182129|   56|Judie Chipps_Tary...|\n| 28|Female|Mickey Cortright|    DB|192537|   62|Ernest Rossbach_M...|\n+---+------+----------------+------+------+-----+--------------------+\nonly showing top 20 rows\n\n"
     ]
    }
   ],
   "source": [
    "df.select('*').show()\n",
    "# COMMAND ----------\n"
   ]
  },
  {
   "cell_type": "code",
   "execution_count": 0,
   "metadata": {
    "application/vnd.databricks.v1+cell": {
     "cellMetadata": {},
     "inputWidgets": {},
     "nuid": "41e2ef83-d5f2-44e4-987f-d1d4d6a81ba5",
     "showTitle": false,
     "tableResultSettingsMap": {},
     "title": ""
    }
   },
   "outputs": [
    {
     "output_type": "stream",
     "name": "stdout",
     "output_type": "stream",
     "text": [
      "+----------------+------+------+-----+\n|            name|course|  roll|marks|\n+----------------+------+------+-----+\n| Hubert Oliveras|    DB|  2984|   59|\n|Toshiko Hillyard| Cloud| 12899|   62|\n|  Celeste Lollis|    PF| 21267|   45|\n|    Elenore Choy|    DB| 32877|   29|\n|  Sheryll Towler|   DSA| 41487|   41|\n|  Margene Moores|   MVC| 52771|   32|\n|     Neda Briski|   OOP| 61973|   69|\n|    Claude Panos| Cloud| 72409|   85|\n|  Celeste Lollis|   MVC| 81492|   64|\n|  Cordie Harnois|   OOP| 92882|   51|\n|       Kena Wild|   DSA|102285|   35|\n| Ernest Rossbach|    DB|111449|   53|\n|  Latia Vanhoose|    DB|122502|   27|\n|  Latia Vanhoose|   MVC|132110|   55|\n|     Neda Briski|    PF|141770|   42|\n|  Latia Vanhoose|    DB|152159|   27|\n|  Loris Crossett|   MVC|161771|   36|\n|  Annika Hoffman|   OOP|171660|   22|\n|   Santa Kerfien|    PF|182129|   56|\n|Mickey Cortright|    DB|192537|   62|\n+----------------+------+------+-----+\nonly showing top 20 rows\n\n"
     ]
    }
   ],
   "source": [
    "df.select(df.columns[2:6]).show()\n"
   ]
  },
  {
   "cell_type": "code",
   "execution_count": 0,
   "metadata": {
    "application/vnd.databricks.v1+cell": {
     "cellMetadata": {},
     "inputWidgets": {},
     "nuid": "329cdc2c-8ee7-468e-b24d-aa342cc2e502",
     "showTitle": false,
     "tableResultSettingsMap": {},
     "title": ""
    }
   },
   "outputs": [
    {
     "output_type": "stream",
     "name": "stdout",
     "output_type": "stream",
     "text": [
      "+------+----------------+\n|  roll|            name|\n+------+----------------+\n|  2984| Hubert Oliveras|\n| 12899|Toshiko Hillyard|\n| 21267|  Celeste Lollis|\n| 32877|    Elenore Choy|\n| 41487|  Sheryll Towler|\n| 52771|  Margene Moores|\n| 61973|     Neda Briski|\n| 72409|    Claude Panos|\n| 81492|  Celeste Lollis|\n| 92882|  Cordie Harnois|\n|102285|       Kena Wild|\n|111449| Ernest Rossbach|\n|122502|  Latia Vanhoose|\n|132110|  Latia Vanhoose|\n|141770|     Neda Briski|\n|152159|  Latia Vanhoose|\n|161771|  Loris Crossett|\n|171660|  Annika Hoffman|\n|182129|   Santa Kerfien|\n|192537|Mickey Cortright|\n+------+----------------+\nonly showing top 20 rows\n\n"
     ]
    }
   ],
   "source": [
    "# COMMAND ----------\n",
    "df2 = df.select(col(\"roll\"), col(\"name\"))\n",
    "# COMMAND ----------\n",
    "df2.show()"
   ]
  },
  {
   "cell_type": "code",
   "execution_count": 0,
   "metadata": {
    "application/vnd.databricks.v1+cell": {
     "cellMetadata": {},
     "inputWidgets": {},
     "nuid": "c8c979a4-e9a4-4d72-841b-c46bf87bf954",
     "showTitle": false,
     "tableResultSettingsMap": {},
     "title": ""
    }
   },
   "outputs": [
    {
     "output_type": "stream",
     "name": "stdout",
     "output_type": "stream",
     "text": [
      "root\n |-- roll: integer (nullable = true)\n |-- name: string (nullable = true)\n\n"
     ]
    }
   ],
   "source": [
    "df2.printSchema()"
   ]
  },
  {
   "cell_type": "code",
   "execution_count": 0,
   "metadata": {
    "application/vnd.databricks.v1+cell": {
     "cellMetadata": {},
     "inputWidgets": {},
     "nuid": "d756d90d-1422-40c5-a6d4-70750110a3ca",
     "showTitle": false,
     "tableResultSettingsMap": {},
     "title": ""
    }
   },
   "outputs": [
    {
     "output_type": "stream",
     "name": "stdout",
     "output_type": "stream",
     "text": [
      "root\n |-- age: integer (nullable = true)\n |-- gender: string (nullable = true)\n |-- name: string (nullable = true)\n |-- course: string (nullable = true)\n |-- roll: integer (nullable = true)\n |-- marks: integer (nullable = true)\n |-- email: string (nullable = true)\n\n"
     ]
    }
   ],
   "source": [
    "\n",
    "df.printSchema()"
   ]
  },
  {
   "cell_type": "code",
   "execution_count": 0,
   "metadata": {
    "application/vnd.databricks.v1+cell": {
     "cellMetadata": {},
     "inputWidgets": {},
     "nuid": "51970416-3a09-4234-992d-efe3a7aef606",
     "showTitle": false,
     "tableResultSettingsMap": {},
     "title": ""
    }
   },
   "outputs": [
    {
     "output_type": "stream",
     "name": "stdout",
     "output_type": "stream",
     "text": [
      "<class 'pyspark.sql.dataframe.DataFrame'>\n"
     ]
    }
   ],
   "source": [
    "print(type(df2))"
   ]
  },
  {
   "cell_type": "code",
   "execution_count": 0,
   "metadata": {
    "application/vnd.databricks.v1+cell": {
     "cellMetadata": {},
     "inputWidgets": {},
     "nuid": "45be0d71-dea2-4a52-8807-ab788e02e083",
     "showTitle": false,
     "tableResultSettingsMap": {},
     "title": ""
    }
   },
   "outputs": [],
   "source": []
  }
 ],
 "metadata": {
  "application/vnd.databricks.v1+notebook": {
   "computePreferences": null,
   "dashboards": [],
   "environmentMetadata": null,
   "inputWidgetPreferences": null,
   "language": "python",
   "notebookMetadata": {
    "pythonIndentUnit": 4
   },
   "notebookName": "SQL_basics",
   "widgets": {}
  }
 },
 "nbformat": 4,
 "nbformat_minor": 0
}