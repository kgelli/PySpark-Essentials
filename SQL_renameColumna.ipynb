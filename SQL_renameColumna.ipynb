{
 "cells": [
  {
   "cell_type": "code",
   "execution_count": 0,
   "metadata": {
    "application/vnd.databricks.v1+cell": {
     "cellMetadata": {},
     "inputWidgets": {},
     "nuid": "33f71927-1a82-49c0-9a28-aa3585ea0db7",
     "showTitle": false,
     "tableResultSettingsMap": {},
     "title": ""
    }
   },
   "outputs": [
    {
     "output_type": "stream",
     "name": "stdout",
     "output_type": "stream",
     "text": [
      "+---+------+----------------+------+------+-----+--------------------+\n|age|gender|            name|course|  roll|marks|               email|\n+---+------+----------------+------+------+-----+--------------------+\n| 28|Female| Hubert Oliveras|    DB|  2984|   59|Annika Hoffman_Na...|\n| 29|Female|Toshiko Hillyard| Cloud| 12899|   62|Margene Moores_Ma...|\n| 28|  Male|  Celeste Lollis|    PF| 21267|   45|Jeannetta Golden_...|\n| 29|Female|    Elenore Choy|    DB| 32877|   29|Billi Clore_Mitzi...|\n| 28|  Male|  Sheryll Towler|   DSA| 41487|   41|Claude Panos_Judi...|\n| 28|  Male|  Margene Moores|   MVC| 52771|   32|Toshiko Hillyard_...|\n| 28|  Male|     Neda Briski|   OOP| 61973|   69|Alberta Freund_El...|\n| 28|Female|    Claude Panos| Cloud| 72409|   85|Sheryll Towler_Al...|\n| 28|  Male|  Celeste Lollis|   MVC| 81492|   64|Nicole Harwood_Cl...|\n| 29|  Male|  Cordie Harnois|   OOP| 92882|   51|Judie Chipps_Clem...|\n| 29|Female|       Kena Wild|   DSA|102285|   35|Dustin Feagins_Ma...|\n| 29|  Male| Ernest Rossbach|    DB|111449|   53|Maybell Duguay_Ab...|\n| 28|Female|  Latia Vanhoose|    DB|122502|   27|Latia Vanhoose_Mi...|\n| 29|Female|  Latia Vanhoose|   MVC|132110|   55|Eda Neathery_Nico...|\n| 29|  Male|     Neda Briski|    PF|141770|   42|Margene Moores_Mi...|\n| 29|Female|  Latia Vanhoose|    DB|152159|   27|Claude Panos_Sant...|\n| 29|  Male|  Loris Crossett|   MVC|161771|   36|Mitzi Seldon_Jenn...|\n| 29|  Male|  Annika Hoffman|   OOP|171660|   22|Taryn Brownlee_Mi...|\n| 29|  Male|   Santa Kerfien|    PF|182129|   56|Judie Chipps_Tary...|\n| 28|Female|Mickey Cortright|    DB|192537|   62|Ernest Rossbach_M...|\n+---+------+----------------+------+------+-----+--------------------+\nonly showing top 20 rows\n\n+---+------+----------------+------+-----------+-----+--------------------+\n|age|   sex|            name|course|roll number|marks|               email|\n+---+------+----------------+------+-----------+-----+--------------------+\n| 28|Female| Hubert Oliveras|    DB|       2984|   59|Annika Hoffman_Na...|\n| 29|Female|Toshiko Hillyard| Cloud|      12899|   62|Margene Moores_Ma...|\n| 28|  Male|  Celeste Lollis|    PF|      21267|   45|Jeannetta Golden_...|\n| 29|Female|    Elenore Choy|    DB|      32877|   29|Billi Clore_Mitzi...|\n| 28|  Male|  Sheryll Towler|   DSA|      41487|   41|Claude Panos_Judi...|\n| 28|  Male|  Margene Moores|   MVC|      52771|   32|Toshiko Hillyard_...|\n| 28|  Male|     Neda Briski|   OOP|      61973|   69|Alberta Freund_El...|\n| 28|Female|    Claude Panos| Cloud|      72409|   85|Sheryll Towler_Al...|\n| 28|  Male|  Celeste Lollis|   MVC|      81492|   64|Nicole Harwood_Cl...|\n| 29|  Male|  Cordie Harnois|   OOP|      92882|   51|Judie Chipps_Clem...|\n| 29|Female|       Kena Wild|   DSA|     102285|   35|Dustin Feagins_Ma...|\n| 29|  Male| Ernest Rossbach|    DB|     111449|   53|Maybell Duguay_Ab...|\n| 28|Female|  Latia Vanhoose|    DB|     122502|   27|Latia Vanhoose_Mi...|\n| 29|Female|  Latia Vanhoose|   MVC|     132110|   55|Eda Neathery_Nico...|\n| 29|  Male|     Neda Briski|    PF|     141770|   42|Margene Moores_Mi...|\n| 29|Female|  Latia Vanhoose|    DB|     152159|   27|Claude Panos_Sant...|\n| 29|  Male|  Loris Crossett|   MVC|     161771|   36|Mitzi Seldon_Jenn...|\n| 29|  Male|  Annika Hoffman|   OOP|     171660|   22|Taryn Brownlee_Mi...|\n| 29|  Male|   Santa Kerfien|    PF|     182129|   56|Judie Chipps_Tary...|\n| 28|Female|Mickey Cortright|    DB|     192537|   62|Ernest Rossbach_M...|\n+---+------+----------------+------+-----------+-----+--------------------+\nonly showing top 20 rows\n\n+----------------+\n|       Full Name|\n+----------------+\n| Hubert Oliveras|\n|Toshiko Hillyard|\n|  Celeste Lollis|\n|    Elenore Choy|\n|  Sheryll Towler|\n|  Margene Moores|\n|     Neda Briski|\n|    Claude Panos|\n|  Celeste Lollis|\n|  Cordie Harnois|\n|       Kena Wild|\n| Ernest Rossbach|\n|  Latia Vanhoose|\n|  Latia Vanhoose|\n|     Neda Briski|\n|  Latia Vanhoose|\n|  Loris Crossett|\n|  Annika Hoffman|\n|   Santa Kerfien|\n|Mickey Cortright|\n+----------------+\nonly showing top 20 rows\n\n+---+------+----------------+------+-----------+-----+--------------------+\n|age|   sex|            name|course|roll number|marks|               email|\n+---+------+----------------+------+-----------+-----+--------------------+\n| 28|Female| Hubert Oliveras|    DB|       2984|   59|Annika Hoffman_Na...|\n| 29|Female|Toshiko Hillyard| Cloud|      12899|   62|Margene Moores_Ma...|\n| 28|  Male|  Celeste Lollis|    PF|      21267|   45|Jeannetta Golden_...|\n| 29|Female|    Elenore Choy|    DB|      32877|   29|Billi Clore_Mitzi...|\n| 28|  Male|  Sheryll Towler|   DSA|      41487|   41|Claude Panos_Judi...|\n| 28|  Male|  Margene Moores|   MVC|      52771|   32|Toshiko Hillyard_...|\n| 28|  Male|     Neda Briski|   OOP|      61973|   69|Alberta Freund_El...|\n| 28|Female|    Claude Panos| Cloud|      72409|   85|Sheryll Towler_Al...|\n| 28|  Male|  Celeste Lollis|   MVC|      81492|   64|Nicole Harwood_Cl...|\n| 29|  Male|  Cordie Harnois|   OOP|      92882|   51|Judie Chipps_Clem...|\n| 29|Female|       Kena Wild|   DSA|     102285|   35|Dustin Feagins_Ma...|\n| 29|  Male| Ernest Rossbach|    DB|     111449|   53|Maybell Duguay_Ab...|\n| 28|Female|  Latia Vanhoose|    DB|     122502|   27|Latia Vanhoose_Mi...|\n| 29|Female|  Latia Vanhoose|   MVC|     132110|   55|Eda Neathery_Nico...|\n| 29|  Male|     Neda Briski|    PF|     141770|   42|Margene Moores_Mi...|\n| 29|Female|  Latia Vanhoose|    DB|     152159|   27|Claude Panos_Sant...|\n| 29|  Male|  Loris Crossett|   MVC|     161771|   36|Mitzi Seldon_Jenn...|\n| 29|  Male|  Annika Hoffman|   OOP|     171660|   22|Taryn Brownlee_Mi...|\n| 29|  Male|   Santa Kerfien|    PF|     182129|   56|Judie Chipps_Tary...|\n| 28|Female|Mickey Cortright|    DB|     192537|   62|Ernest Rossbach_M...|\n+---+------+----------------+------+-----------+-----+--------------------+\nonly showing top 20 rows\n\n"
     ]
    }
   ],
   "source": [
    "from pyspark.sql import SparkSession\n",
    "from pyspark.sql.functions import col, lit\n",
    "spark = SparkSession.builder.appName(\"Spark DataFrames\").getOrCreate()\n",
    "# COMMAND ----------\n",
    "df = spark.read.options(header='True', inferSchema='True').csv('/FileStore/tables/StudentData.csv')\n",
    "df.show()\n",
    "# COMMAND ----------\n",
    "df = df.withColumnRenamed(\"gender\",\"sex\").withColumnRenamed(\"roll\", \"roll number\")\n",
    "df.show()\n",
    "# COMMAND ----------\n",
    "df.select(col(\"name\").alias(\"Full Name\")).show()\n",
    "# COMMAND ----------\n",
    "df.show()"
   ]
  },
  {
   "cell_type": "code",
   "execution_count": 0,
   "metadata": {
    "application/vnd.databricks.v1+cell": {
     "cellMetadata": {},
     "inputWidgets": {},
     "nuid": "494f05db-b19b-4229-9a59-11927cee4625",
     "showTitle": false,
     "tableResultSettingsMap": {},
     "title": ""
    }
   },
   "outputs": [],
   "source": []
  }
 ],
 "metadata": {
  "application/vnd.databricks.v1+notebook": {
   "computePreferences": null,
   "dashboards": [],
   "environmentMetadata": null,
   "inputWidgetPreferences": null,
   "language": "python",
   "notebookMetadata": {
    "pythonIndentUnit": 4
   },
   "notebookName": "SQL_renameColumna",
   "widgets": {}
  }
 },
 "nbformat": 4,
 "nbformat_minor": 0
}